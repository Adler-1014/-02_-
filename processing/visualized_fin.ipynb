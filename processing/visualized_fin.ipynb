{
 "cells": [
  {
   "cell_type": "code",
   "execution_count": 1,
   "id": "5ddbf13d",
   "metadata": {
    "ExecuteTime": {
     "end_time": "2024-05-07T02:06:50.605298Z",
     "start_time": "2024-05-07T02:06:48.104725Z"
    }
   },
   "outputs": [
    {
     "name": "stdout",
     "output_type": "stream",
     "text": [
      "Requirement already satisfied: pandas in /Users/admin/anaconda3/lib/python3.11/site-packages (2.0.3)\n",
      "Requirement already satisfied: numpy in /Users/admin/anaconda3/lib/python3.11/site-packages (1.26.4)\n",
      "Requirement already satisfied: matplotlib in /Users/admin/anaconda3/lib/python3.11/site-packages (3.7.2)\n",
      "Requirement already satisfied: seaborn in /Users/admin/anaconda3/lib/python3.11/site-packages (0.12.2)\n",
      "Requirement already satisfied: ipywidgets in /Users/admin/anaconda3/lib/python3.11/site-packages (8.0.4)\n",
      "Requirement already satisfied: python-dateutil>=2.8.2 in /Users/admin/anaconda3/lib/python3.11/site-packages (from pandas) (2.8.2)\n",
      "Requirement already satisfied: pytz>=2020.1 in /Users/admin/anaconda3/lib/python3.11/site-packages (from pandas) (2023.3.post1)\n",
      "Requirement already satisfied: tzdata>=2022.1 in /Users/admin/anaconda3/lib/python3.11/site-packages (from pandas) (2023.3)\n",
      "Requirement already satisfied: contourpy>=1.0.1 in /Users/admin/anaconda3/lib/python3.11/site-packages (from matplotlib) (1.0.5)\n",
      "Requirement already satisfied: cycler>=0.10 in /Users/admin/anaconda3/lib/python3.11/site-packages (from matplotlib) (0.11.0)\n",
      "Requirement already satisfied: fonttools>=4.22.0 in /Users/admin/anaconda3/lib/python3.11/site-packages (from matplotlib) (4.25.0)\n",
      "Requirement already satisfied: kiwisolver>=1.0.1 in /Users/admin/anaconda3/lib/python3.11/site-packages (from matplotlib) (1.4.4)\n",
      "Requirement already satisfied: packaging>=20.0 in /Users/admin/anaconda3/lib/python3.11/site-packages (from matplotlib) (23.0)\n",
      "Requirement already satisfied: pillow>=6.2.0 in /Users/admin/anaconda3/lib/python3.11/site-packages (from matplotlib) (10.2.0)\n",
      "Requirement already satisfied: pyparsing<3.1,>=2.3.1 in /Users/admin/anaconda3/lib/python3.11/site-packages (from matplotlib) (3.0.9)\n",
      "Requirement already satisfied: ipykernel>=4.5.1 in /Users/admin/anaconda3/lib/python3.11/site-packages (from ipywidgets) (6.25.0)\n",
      "Requirement already satisfied: ipython>=6.1.0 in /Users/admin/anaconda3/lib/python3.11/site-packages (from ipywidgets) (8.15.0)\n",
      "Requirement already satisfied: traitlets>=4.3.1 in /Users/admin/anaconda3/lib/python3.11/site-packages (from ipywidgets) (5.7.1)\n",
      "Requirement already satisfied: widgetsnbextension~=4.0 in /Users/admin/anaconda3/lib/python3.11/site-packages (from ipywidgets) (4.0.5)\n",
      "Requirement already satisfied: jupyterlab-widgets~=3.0 in /Users/admin/anaconda3/lib/python3.11/site-packages (from ipywidgets) (3.0.5)\n",
      "Requirement already satisfied: appnope in /Users/admin/anaconda3/lib/python3.11/site-packages (from ipykernel>=4.5.1->ipywidgets) (0.1.2)\n",
      "Requirement already satisfied: comm>=0.1.1 in /Users/admin/anaconda3/lib/python3.11/site-packages (from ipykernel>=4.5.1->ipywidgets) (0.1.2)\n",
      "Requirement already satisfied: debugpy>=1.6.5 in /Users/admin/anaconda3/lib/python3.11/site-packages (from ipykernel>=4.5.1->ipywidgets) (1.6.7)\n",
      "Requirement already satisfied: jupyter-client>=6.1.12 in /Users/admin/anaconda3/lib/python3.11/site-packages (from ipykernel>=4.5.1->ipywidgets) (7.4.9)\n",
      "Requirement already satisfied: jupyter-core!=5.0.*,>=4.12 in /Users/admin/anaconda3/lib/python3.11/site-packages (from ipykernel>=4.5.1->ipywidgets) (5.3.0)\n",
      "Requirement already satisfied: matplotlib-inline>=0.1 in /Users/admin/anaconda3/lib/python3.11/site-packages (from ipykernel>=4.5.1->ipywidgets) (0.1.6)\n",
      "Requirement already satisfied: nest-asyncio in /Users/admin/anaconda3/lib/python3.11/site-packages (from ipykernel>=4.5.1->ipywidgets) (1.5.6)\n",
      "Requirement already satisfied: psutil in /Users/admin/anaconda3/lib/python3.11/site-packages (from ipykernel>=4.5.1->ipywidgets) (5.9.0)\n",
      "Requirement already satisfied: pyzmq>=20 in /Users/admin/anaconda3/lib/python3.11/site-packages (from ipykernel>=4.5.1->ipywidgets) (23.2.0)\n",
      "Requirement already satisfied: tornado>=6.1 in /Users/admin/anaconda3/lib/python3.11/site-packages (from ipykernel>=4.5.1->ipywidgets) (6.3.2)\n",
      "Requirement already satisfied: backcall in /Users/admin/anaconda3/lib/python3.11/site-packages (from ipython>=6.1.0->ipywidgets) (0.2.0)\n",
      "Requirement already satisfied: decorator in /Users/admin/anaconda3/lib/python3.11/site-packages (from ipython>=6.1.0->ipywidgets) (5.1.1)\n",
      "Requirement already satisfied: jedi>=0.16 in /Users/admin/anaconda3/lib/python3.11/site-packages (from ipython>=6.1.0->ipywidgets) (0.18.1)\n",
      "Requirement already satisfied: pickleshare in /Users/admin/anaconda3/lib/python3.11/site-packages (from ipython>=6.1.0->ipywidgets) (0.7.5)\n",
      "Requirement already satisfied: prompt-toolkit!=3.0.37,<3.1.0,>=3.0.30 in /Users/admin/anaconda3/lib/python3.11/site-packages (from ipython>=6.1.0->ipywidgets) (3.0.36)\n",
      "Requirement already satisfied: pygments>=2.4.0 in /Users/admin/anaconda3/lib/python3.11/site-packages (from ipython>=6.1.0->ipywidgets) (2.15.1)\n",
      "Requirement already satisfied: stack-data in /Users/admin/anaconda3/lib/python3.11/site-packages (from ipython>=6.1.0->ipywidgets) (0.2.0)\n",
      "Requirement already satisfied: pexpect>4.3 in /Users/admin/anaconda3/lib/python3.11/site-packages (from ipython>=6.1.0->ipywidgets) (4.8.0)\n",
      "Requirement already satisfied: six>=1.5 in /Users/admin/anaconda3/lib/python3.11/site-packages (from python-dateutil>=2.8.2->pandas) (1.16.0)\n",
      "Requirement already satisfied: parso<0.9.0,>=0.8.0 in /Users/admin/anaconda3/lib/python3.11/site-packages (from jedi>=0.16->ipython>=6.1.0->ipywidgets) (0.8.3)\n",
      "Requirement already satisfied: entrypoints in /Users/admin/anaconda3/lib/python3.11/site-packages (from jupyter-client>=6.1.12->ipykernel>=4.5.1->ipywidgets) (0.4)\n",
      "Requirement already satisfied: platformdirs>=2.5 in /Users/admin/anaconda3/lib/python3.11/site-packages (from jupyter-core!=5.0.*,>=4.12->ipykernel>=4.5.1->ipywidgets) (3.10.0)\n",
      "Requirement already satisfied: ptyprocess>=0.5 in /Users/admin/anaconda3/lib/python3.11/site-packages (from pexpect>4.3->ipython>=6.1.0->ipywidgets) (0.7.0)\n",
      "Requirement already satisfied: wcwidth in /Users/admin/anaconda3/lib/python3.11/site-packages (from prompt-toolkit!=3.0.37,<3.1.0,>=3.0.30->ipython>=6.1.0->ipywidgets) (0.2.5)\n",
      "Requirement already satisfied: executing in /Users/admin/anaconda3/lib/python3.11/site-packages (from stack-data->ipython>=6.1.0->ipywidgets) (0.8.3)\n",
      "Requirement already satisfied: asttokens in /Users/admin/anaconda3/lib/python3.11/site-packages (from stack-data->ipython>=6.1.0->ipywidgets) (2.0.5)\n",
      "Requirement already satisfied: pure-eval in /Users/admin/anaconda3/lib/python3.11/site-packages (from stack-data->ipython>=6.1.0->ipywidgets) (0.2.2)\n"
     ]
    }
   ],
   "source": [
    "!pip install pandas numpy matplotlib seaborn ipywidgets"
   ]
  },
  {
   "cell_type": "code",
   "execution_count": 2,
   "id": "17237cc8",
   "metadata": {
    "ExecuteTime": {
     "end_time": "2024-05-07T02:06:50.864006Z",
     "start_time": "2024-05-07T02:06:50.607152Z"
    }
   },
   "outputs": [],
   "source": [
    "import pandas as pd"
   ]
  },
  {
   "cell_type": "code",
   "execution_count": 3,
   "id": "358589ea",
   "metadata": {
    "ExecuteTime": {
     "end_time": "2024-05-07T02:06:50.895285Z",
     "start_time": "2024-05-07T02:06:50.867391Z"
    },
    "scrolled": true
   },
   "outputs": [],
   "source": [
    "data = pd.read_csv('combined_data_2023_2024.csv')\n",
    "\n",
    "\n",
    "# 날짜 문자열을 datetime 객체로 변환 (ISO8601 형식)\n",
    "data['Date'] = pd.to_datetime(data['Date'], format='%Y-%m-%d')"
   ]
  },
  {
   "cell_type": "code",
   "execution_count": 4,
   "id": "0be21073",
   "metadata": {
    "ExecuteTime": {
     "end_time": "2024-05-07T02:06:53.440979Z",
     "start_time": "2024-05-07T02:06:50.896301Z"
    }
   },
   "outputs": [],
   "source": [
    "import matplotlib.pyplot as plt\n",
    "import seaborn as sns\n",
    "import pandas as pd\n",
    "import numpy as np\n",
    "from ipywidgets import widgets\n",
    "from IPython.display import display\n",
    "import calendar"
   ]
  },
  {
   "cell_type": "code",
   "execution_count": 5,
   "id": "80d4cf5c",
   "metadata": {
    "ExecuteTime": {
     "end_time": "2024-05-07T02:06:53.479542Z",
     "start_time": "2024-05-07T02:06:53.441941Z"
    }
   },
   "outputs": [
    {
     "data": {
      "application/vnd.jupyter.widget-view+json": {
       "model_id": "4e95cf00488847db93228c65f0a63f3a",
       "version_major": 2,
       "version_minor": 0
      },
      "text/plain": [
       "IntSlider(value=2023, description='Year:', max=2024, min=2023)"
      ]
     },
     "metadata": {},
     "output_type": "display_data"
    },
    {
     "data": {
      "application/vnd.jupyter.widget-view+json": {
       "model_id": "9d6d6dbb7d12492099a94b18bf05a277",
       "version_major": 2,
       "version_minor": 0
      },
      "text/plain": [
       "IntSlider(value=5, description='Month:', max=12, min=1)"
      ]
     },
     "metadata": {},
     "output_type": "display_data"
    },
    {
     "data": {
      "application/vnd.jupyter.widget-view+json": {
       "model_id": "61c0aad76b6d42a7b83e25bea638d6a7",
       "version_major": 2,
       "version_minor": 0
      },
      "text/plain": [
       "Button(description='Show Heatmap', style=ButtonStyle())"
      ]
     },
     "metadata": {},
     "output_type": "display_data"
    }
   ],
   "source": [
    "# 한글 폰트 설정\n",
    "plt.rc('font', family='AppleGothic')\n",
    "\n",
    "# 데이터 로드 및 준비\n",
    "data['Date'] = pd.to_datetime(data['Date'], format='%Y%m%d')\n",
    "\n",
    "# 히트맵 그리기 함수\n",
    "def draw_calendar_heatmap(year, month):\n",
    "    mask = (data['Date'].dt.year == year) & (data['Date'].dt.month == month)\n",
    "    df = data.loc[mask]\n",
    "    df['Day'] = df['Date'].dt.day\n",
    "    df['Weekday'] = df['Date'].dt.weekday\n",
    "\n",
    "    # 월의 시작 요일과 일수 계산\n",
    "    first_day = df.iloc[0]['Date']\n",
    "    start_day = first_day.weekday()  # 월의 첫 날 요일 (0=월요일, 6=일요일)\n",
    "\n",
    "    # 데이터 배열 생성\n",
    "    passenger_data = np.full((6, 7), np.nan)  # 승하차 인원 데이터\n",
    "    annotations = np.full((6, 7), '', dtype=object)  # 어노테이션 데이터\n",
    "\n",
    "    for _, row in df.iterrows():\n",
    "        # 해당 날짜의 주와 요일 계산\n",
    "        day_offset = (row['Day'] - 1 + start_day) % 7\n",
    "        week_offset = (row['Day'] - 1 + start_day) // 7\n",
    "        passenger_data[week_offset, day_offset] = row['boarding_count']\n",
    "        annotations[week_offset, day_offset] = f\"{row['Day']}\\n\" + (f\"{row['Event']}\" if pd.notna(row['Event']) else \"\")\n",
    "\n",
    "    # 히트맵 생성\n",
    "    plt.figure(figsize=(12, 8))\n",
    "    ax = sns.heatmap(passenger_data, annot=annotations, fmt='', cmap=\"Blues\", linewidths=.5, linecolor='grey',\n",
    "                     cbar=True, annot_kws={'size': 7})\n",
    "    ax.set_title(f'{year}년 {month}월 버스 승하차 인원 및 학사 일정')\n",
    "    ax.set_xlabel('요일')\n",
    "    ax.set_ylabel('주')\n",
    "    ax.set_xticks(np.arange(0.5, 7.5))\n",
    "    ax.set_xticklabels(list(calendar.day_name))  # 요일 이름\n",
    "    ax.xaxis.tick_top()  # X축을 상단으로 이동\n",
    "    plt.xticks(rotation=0)\n",
    "    plt.yticks(rotation=0)\n",
    "    plt.show()\n",
    "\n",
    "# 사용자 인터페이스\n",
    "year_selector = widgets.IntSlider(value=2023, min=2023, max=2024, description='Year:')\n",
    "month_selector = widgets.IntSlider(value=5, min=1, max=12, description='Month:')\n",
    "button = widgets.Button(description=\"Show Heatmap\")\n",
    "\n",
    "def on_button_clicked(b):\n",
    "    draw_calendar_heatmap(year_selector.value, month_selector.value)\n",
    "\n",
    "button.on_click(on_button_clicked)\n",
    "display(year_selector, month_selector, button)\n"
   ]
  },
  {
   "cell_type": "code",
   "execution_count": 6,
   "id": "0e7e2839",
   "metadata": {
    "ExecuteTime": {
     "end_time": "2024-05-07T02:06:53.486194Z",
     "start_time": "2024-05-07T02:06:53.480244Z"
    }
   },
   "outputs": [
    {
     "data": {
      "application/vnd.jupyter.widget-view+json": {
       "model_id": "bad7d2a334b944b7a67ef2e53c2673c9",
       "version_major": 2,
       "version_minor": 0
      },
      "text/plain": [
       "IntSlider(value=2023, description='Year:', max=2024, min=2023)"
      ]
     },
     "metadata": {},
     "output_type": "display_data"
    },
    {
     "data": {
      "application/vnd.jupyter.widget-view+json": {
       "model_id": "de282c5b806448fe9f75271cd91ce2f0",
       "version_major": 2,
       "version_minor": 0
      },
      "text/plain": [
       "IntSlider(value=5, description='Month:', max=12, min=1)"
      ]
     },
     "metadata": {},
     "output_type": "display_data"
    },
    {
     "data": {
      "application/vnd.jupyter.widget-view+json": {
       "model_id": "6b30d556b1bd4e35b533d29f257e39d0",
       "version_major": 2,
       "version_minor": 0
      },
      "text/plain": [
       "Button(description='Show Heatmap', style=ButtonStyle())"
      ]
     },
     "metadata": {},
     "output_type": "display_data"
    }
   ],
   "source": [
    "# 히트맵 그리기 함수\n",
    "def draw_calendar_heatmap(year, month):\n",
    "    mask = (data['Date'].dt.year == year) & (data['Date'].dt.month == month)\n",
    "    df = data.loc[mask]\n",
    "    df['Day'] = df['Date'].dt.day\n",
    "    df['Weekday'] = df['Date'].dt.weekday\n",
    "\n",
    "    # 월의 시작 요일과 일수 계산\n",
    "    first_day = df.iloc[0]['Date']\n",
    "    start_day = first_day.weekday()  # 월의 첫 날 요일 (0=월요일, 6=일요일)\n",
    "\n",
    "    # 데이터 배열 생성\n",
    "    passenger_data = np.full((6, 7), np.nan)  # 승하차 인원 데이터\n",
    "    annotations = np.full((6, 7), '', dtype=object)  # 어노테이션 데이터\n",
    "\n",
    "    for _, row in df.iterrows():\n",
    "        # 해당 날짜의 주와 요일 계산\n",
    "        day_offset = (row['Day'] - 1 + start_day) % 7\n",
    "        week_offset = (row['Day'] - 1 + start_day) // 7\n",
    "        passenger_data[week_offset, day_offset] = row['boarding_count']\n",
    "        # 이벤트 정보 축약\n",
    "        event_text = (f\"{row['Event'][:10]}...\" if pd.notna(row['Event']) else \"\")\n",
    "        annotations[week_offset, day_offset] = f\"{row['Day']}\\n{event_text}\"\n",
    "\n",
    "    # 히트맵 생성\n",
    "    plt.figure(figsize=(14, 10))  # 그래프 크기 조정\n",
    "    ax = sns.heatmap(passenger_data, annot=annotations, fmt='', cmap=\"Blues\", linewidths=.5, linecolor='grey',\n",
    "                     cbar=True, annot_kws={'size': 10})  # 폰트 크기 조정\n",
    "    ax.set_title(f'{year}년 {month}월 버스 승하차 인원 및 학사 일정')\n",
    "    ax.set_xlabel('요일')\n",
    "    ax.set_ylabel('주')\n",
    "    ax.set_xticks(np.arange(0.5, 7.5))\n",
    "    ax.set_xticklabels(list(calendar.day_name))  # 요일 이름\n",
    "    ax.xaxis.tick_top()  # X축을 상단으로 이동\n",
    "    plt.xticks(rotation=0)\n",
    "    plt.yticks(rotation=0)\n",
    "    plt.show()\n",
    "    \n",
    "# 사용자 인터페이스\n",
    "year_selector = widgets.IntSlider(value=2023, min=2023, max=2024, description='Year:')\n",
    "month_selector = widgets.IntSlider(value=5, min=1, max=12, description='Month:')\n",
    "button = widgets.Button(description=\"Show Heatmap\")\n",
    "\n",
    "def on_button_clicked(b):\n",
    "    draw_calendar_heatmap(year_selector.value, month_selector.value)\n",
    "\n",
    "button.on_click(on_button_clicked)\n",
    "display(year_selector, month_selector, button)"
   ]
  },
  {
   "cell_type": "code",
   "execution_count": null,
   "id": "e438ee7f",
   "metadata": {},
   "outputs": [],
   "source": []
  }
 ],
 "metadata": {
  "kernelspec": {
   "display_name": "Python 3 (ipykernel)",
   "language": "python",
   "name": "python3"
  },
  "language_info": {
   "codemirror_mode": {
    "name": "ipython",
    "version": 3
   },
   "file_extension": ".py",
   "mimetype": "text/x-python",
   "name": "python",
   "nbconvert_exporter": "python",
   "pygments_lexer": "ipython3",
   "version": "3.11.5"
  }
 },
 "nbformat": 4,
 "nbformat_minor": 5
}
