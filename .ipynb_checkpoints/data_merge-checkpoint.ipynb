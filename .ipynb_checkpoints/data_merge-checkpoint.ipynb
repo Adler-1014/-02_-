{
 "cells": [
  {
   "cell_type": "code",
   "execution_count": 13,
   "id": "507677a9",
   "metadata": {
    "ExecuteTime": {
     "end_time": "2024-05-05T17:05:19.006490Z",
     "start_time": "2024-05-05T17:05:18.961788Z"
    }
   },
   "outputs": [],
   "source": [
    "import pandas as pd\n",
    "\n",
    "bus_data = pd.read_csv('DATA_daily_2023.csv', encoding='EUC-KR')"
   ]
  },
  {
   "cell_type": "code",
   "execution_count": 14,
   "id": "318f8cc8",
   "metadata": {
    "ExecuteTime": {
     "end_time": "2024-05-05T17:05:19.626944Z",
     "start_time": "2024-05-05T17:05:19.612904Z"
    }
   },
   "outputs": [
    {
     "data": {
      "text/html": [
       "<div>\n",
       "<style scoped>\n",
       "    .dataframe tbody tr th:only-of-type {\n",
       "        vertical-align: middle;\n",
       "    }\n",
       "\n",
       "    .dataframe tbody tr th {\n",
       "        vertical-align: top;\n",
       "    }\n",
       "\n",
       "    .dataframe thead th {\n",
       "        text-align: right;\n",
       "    }\n",
       "</style>\n",
       "<table border=\"1\" class=\"dataframe\">\n",
       "  <thead>\n",
       "    <tr style=\"text-align: right;\">\n",
       "      <th></th>\n",
       "      <th>사용일자</th>\n",
       "      <th>노선번호</th>\n",
       "      <th>노선명</th>\n",
       "      <th>표준버스정류장ID</th>\n",
       "      <th>버스정류장ARS번호</th>\n",
       "      <th>역명</th>\n",
       "      <th>승차총승객수</th>\n",
       "      <th>하차총승객수</th>\n",
       "      <th>등록일자</th>\n",
       "    </tr>\n",
       "  </thead>\n",
       "  <tbody>\n",
       "    <tr>\n",
       "      <th>0</th>\n",
       "      <td>20230901</td>\n",
       "      <td>관악02</td>\n",
       "      <td>관악02(낙성대역~서울대신공학관)</td>\n",
       "      <td>120000172.0</td>\n",
       "      <td>21274</td>\n",
       "      <td>신소재연구소(00019)</td>\n",
       "      <td>8.0</td>\n",
       "      <td>69.0</td>\n",
       "      <td>20230904.0</td>\n",
       "    </tr>\n",
       "    <tr>\n",
       "      <th>1</th>\n",
       "      <td>20230901</td>\n",
       "      <td>관악02</td>\n",
       "      <td>관악02(낙성대역~서울대신공학관)</td>\n",
       "      <td>120000173.0</td>\n",
       "      <td>21275</td>\n",
       "      <td>제2공학관(00022)</td>\n",
       "      <td>689.0</td>\n",
       "      <td>528.0</td>\n",
       "      <td>20230904.0</td>\n",
       "    </tr>\n",
       "  </tbody>\n",
       "</table>\n",
       "</div>"
      ],
      "text/plain": [
       "       사용일자  노선번호                 노선명    표준버스정류장ID  버스정류장ARS번호             역명  \\\n",
       "0  20230901  관악02  관악02(낙성대역~서울대신공학관)  120000172.0       21274  신소재연구소(00019)   \n",
       "1  20230901  관악02  관악02(낙성대역~서울대신공학관)  120000173.0       21275   제2공학관(00022)   \n",
       "\n",
       "   승차총승객수  하차총승객수        등록일자  \n",
       "0     8.0    69.0  20230904.0  \n",
       "1   689.0   528.0  20230904.0  "
      ]
     },
     "execution_count": 14,
     "metadata": {},
     "output_type": "execute_result"
    }
   ],
   "source": [
    "#버스데이터 필터링\n",
    "bus_data.head(2)"
   ]
  },
  {
   "cell_type": "code",
   "execution_count": 19,
   "id": "5ac2ef43",
   "metadata": {
    "ExecuteTime": {
     "end_time": "2024-05-05T17:14:23.117153Z",
     "start_time": "2024-05-05T17:14:23.104503Z"
    }
   },
   "outputs": [
    {
     "data": {
      "text/html": [
       "<div>\n",
       "<style scoped>\n",
       "    .dataframe tbody tr th:only-of-type {\n",
       "        vertical-align: middle;\n",
       "    }\n",
       "\n",
       "    .dataframe tbody tr th {\n",
       "        vertical-align: top;\n",
       "    }\n",
       "\n",
       "    .dataframe thead th {\n",
       "        text-align: right;\n",
       "    }\n",
       "</style>\n",
       "<table border=\"1\" class=\"dataframe\">\n",
       "  <thead>\n",
       "    <tr style=\"text-align: right;\">\n",
       "      <th></th>\n",
       "      <th>사용일자</th>\n",
       "      <th>승차총승객수</th>\n",
       "      <th>하차총승객수</th>\n",
       "    </tr>\n",
       "  </thead>\n",
       "  <tbody>\n",
       "    <tr>\n",
       "      <th>0</th>\n",
       "      <td>20230101</td>\n",
       "      <td>3581.0</td>\n",
       "      <td>3496.0</td>\n",
       "    </tr>\n",
       "    <tr>\n",
       "      <th>1</th>\n",
       "      <td>20230102</td>\n",
       "      <td>7551.0</td>\n",
       "      <td>7400.0</td>\n",
       "    </tr>\n",
       "  </tbody>\n",
       "</table>\n",
       "</div>"
      ],
      "text/plain": [
       "       사용일자  승차총승객수  하차총승객수\n",
       "0  20230101  3581.0  3496.0\n",
       "1  20230102  7551.0  7400.0"
      ]
     },
     "execution_count": 19,
     "metadata": {},
     "output_type": "execute_result"
    }
   ],
   "source": [
    "#승하차 인원 날짜별로 집계 : 일단 모든 정류장\n",
    "daily_bus_data = bus_data.groupby('사용일자').agg({'승차총승객수': 'sum', '하차총승객수': 'sum'}).reset_index()\n",
    "daily_bus_data.head(2)"
   ]
  },
  {
   "cell_type": "code",
   "execution_count": 22,
   "id": "439a3627",
   "metadata": {
    "ExecuteTime": {
     "end_time": "2024-05-05T17:15:27.763035Z",
     "start_time": "2024-05-05T17:15:27.758426Z"
    }
   },
   "outputs": [],
   "source": [
    "daily_bus_data.rename(columns={\n",
    "    '사용일자': 'Date',\n",
    "    '승차총승객수': 'boarding_count',\n",
    "    '하차총승객수': 'alighting_count',}, inplace=True)"
   ]
  },
  {
   "cell_type": "code",
   "execution_count": 23,
   "id": "17d62758",
   "metadata": {
    "ExecuteTime": {
     "end_time": "2024-05-05T17:15:28.206897Z",
     "start_time": "2024-05-05T17:15:28.193873Z"
    }
   },
   "outputs": [
    {
     "data": {
      "text/html": [
       "<div>\n",
       "<style scoped>\n",
       "    .dataframe tbody tr th:only-of-type {\n",
       "        vertical-align: middle;\n",
       "    }\n",
       "\n",
       "    .dataframe tbody tr th {\n",
       "        vertical-align: top;\n",
       "    }\n",
       "\n",
       "    .dataframe thead th {\n",
       "        text-align: right;\n",
       "    }\n",
       "</style>\n",
       "<table border=\"1\" class=\"dataframe\">\n",
       "  <thead>\n",
       "    <tr style=\"text-align: right;\">\n",
       "      <th></th>\n",
       "      <th>date</th>\n",
       "      <th>boarding_count</th>\n",
       "      <th>alighting_count</th>\n",
       "    </tr>\n",
       "  </thead>\n",
       "  <tbody>\n",
       "    <tr>\n",
       "      <th>0</th>\n",
       "      <td>20230101</td>\n",
       "      <td>3581.0</td>\n",
       "      <td>3496.0</td>\n",
       "    </tr>\n",
       "    <tr>\n",
       "      <th>1</th>\n",
       "      <td>20230102</td>\n",
       "      <td>7551.0</td>\n",
       "      <td>7400.0</td>\n",
       "    </tr>\n",
       "    <tr>\n",
       "      <th>2</th>\n",
       "      <td>20230103</td>\n",
       "      <td>7804.0</td>\n",
       "      <td>7654.0</td>\n",
       "    </tr>\n",
       "    <tr>\n",
       "      <th>3</th>\n",
       "      <td>20230104</td>\n",
       "      <td>8299.0</td>\n",
       "      <td>8100.0</td>\n",
       "    </tr>\n",
       "    <tr>\n",
       "      <th>4</th>\n",
       "      <td>20230105</td>\n",
       "      <td>8026.0</td>\n",
       "      <td>7836.0</td>\n",
       "    </tr>\n",
       "    <tr>\n",
       "      <th>...</th>\n",
       "      <td>...</td>\n",
       "      <td>...</td>\n",
       "      <td>...</td>\n",
       "    </tr>\n",
       "    <tr>\n",
       "      <th>356</th>\n",
       "      <td>20231227</td>\n",
       "      <td>8510.0</td>\n",
       "      <td>8351.0</td>\n",
       "    </tr>\n",
       "    <tr>\n",
       "      <th>357</th>\n",
       "      <td>20231228</td>\n",
       "      <td>8182.0</td>\n",
       "      <td>8045.0</td>\n",
       "    </tr>\n",
       "    <tr>\n",
       "      <th>358</th>\n",
       "      <td>20231229</td>\n",
       "      <td>7889.0</td>\n",
       "      <td>7732.0</td>\n",
       "    </tr>\n",
       "    <tr>\n",
       "      <th>359</th>\n",
       "      <td>20231230</td>\n",
       "      <td>5091.0</td>\n",
       "      <td>4985.0</td>\n",
       "    </tr>\n",
       "    <tr>\n",
       "      <th>360</th>\n",
       "      <td>20231231</td>\n",
       "      <td>3267.0</td>\n",
       "      <td>3226.0</td>\n",
       "    </tr>\n",
       "  </tbody>\n",
       "</table>\n",
       "<p>361 rows × 3 columns</p>\n",
       "</div>"
      ],
      "text/plain": [
       "         date  boarding_count  alighting_count\n",
       "0    20230101          3581.0           3496.0\n",
       "1    20230102          7551.0           7400.0\n",
       "2    20230103          7804.0           7654.0\n",
       "3    20230104          8299.0           8100.0\n",
       "4    20230105          8026.0           7836.0\n",
       "..        ...             ...              ...\n",
       "356  20231227          8510.0           8351.0\n",
       "357  20231228          8182.0           8045.0\n",
       "358  20231229          7889.0           7732.0\n",
       "359  20231230          5091.0           4985.0\n",
       "360  20231231          3267.0           3226.0\n",
       "\n",
       "[361 rows x 3 columns]"
      ]
     },
     "execution_count": 23,
     "metadata": {},
     "output_type": "execute_result"
    }
   ],
   "source": [
    "daily_bus_data"
   ]
  },
  {
   "cell_type": "code",
   "execution_count": 18,
   "id": "97e4a1b7",
   "metadata": {
    "ExecuteTime": {
     "end_time": "2024-05-05T17:13:04.730691Z",
     "start_time": "2024-05-05T17:13:04.716556Z"
    }
   },
   "outputs": [
    {
     "data": {
      "text/html": [
       "<div>\n",
       "<style scoped>\n",
       "    .dataframe tbody tr th:only-of-type {\n",
       "        vertical-align: middle;\n",
       "    }\n",
       "\n",
       "    .dataframe tbody tr th {\n",
       "        vertical-align: top;\n",
       "    }\n",
       "\n",
       "    .dataframe thead th {\n",
       "        text-align: right;\n",
       "    }\n",
       "</style>\n",
       "<table border=\"1\" class=\"dataframe\">\n",
       "  <thead>\n",
       "    <tr style=\"text-align: right;\">\n",
       "      <th></th>\n",
       "      <th>Date</th>\n",
       "      <th>Event</th>\n",
       "    </tr>\n",
       "  </thead>\n",
       "  <tbody>\n",
       "    <tr>\n",
       "      <th>0</th>\n",
       "      <td>20230301</td>\n",
       "      <td>제1학기 시작</td>\n",
       "    </tr>\n",
       "    <tr>\n",
       "      <th>1</th>\n",
       "      <td>20230302</td>\n",
       "      <td>제1학기 개강, 입학식, 제1학기 수강신청 변경</td>\n",
       "    </tr>\n",
       "  </tbody>\n",
       "</table>\n",
       "</div>"
      ],
      "text/plain": [
       "       Date                       Event\n",
       "0  20230301                     제1학기 시작\n",
       "1  20230302  제1학기 개강, 입학식, 제1학기 수강신청 변경"
      ]
     },
     "execution_count": 18,
     "metadata": {},
     "output_type": "execute_result"
    }
   ],
   "source": [
    "event_data = pd.read_csv('snu_crawling_2023.csv')\n",
    "event_data.head(2)"
   ]
  },
  {
   "cell_type": "code",
   "execution_count": null,
   "id": "8d38d3ce",
   "metadata": {},
   "outputs": [],
   "source": [
    "combined_data = pd.merge(bus_data, event_data, on='date', how='left')"
   ]
  }
 ],
 "metadata": {
  "kernelspec": {
   "display_name": "Python 3 (ipykernel)",
   "language": "python",
   "name": "python3"
  },
  "language_info": {
   "codemirror_mode": {
    "name": "ipython",
    "version": 3
   },
   "file_extension": ".py",
   "mimetype": "text/x-python",
   "name": "python",
   "nbconvert_exporter": "python",
   "pygments_lexer": "ipython3",
   "version": "3.11.5"
  }
 },
 "nbformat": 4,
 "nbformat_minor": 5
}
